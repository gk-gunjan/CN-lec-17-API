{
 "cells": [
  {
   "cell_type": "markdown",
   "metadata": {},
   "source": [
    "#### GITHUB API Practice"
   ]
  },
  {
   "cell_type": "code",
   "execution_count": 8,
   "metadata": {},
   "outputs": [
    {
     "data": {
      "text/plain": [
       "200"
      ]
     },
     "execution_count": 8,
     "metadata": {},
     "output_type": "execute_result"
    }
   ],
   "source": [
    "import json\n",
    "import requests\n",
    "from requests.auth import HTTPBasicAuth\n",
    "data=requests.get('https://api.github.com/user',auth=('gunjanparth','330afde0e99162925f6b4b7541a580f3bcc3565f'))\n",
    "data.status_code"
   ]
  },
  {
   "cell_type": "markdown",
   "metadata": {},
   "source": [
    "### Post Requests"
   ]
  },
  {
   "cell_type": "code",
   "execution_count": 12,
   "metadata": {},
   "outputs": [
    {
     "data": {
      "text/plain": [
       "422"
      ]
     },
     "execution_count": 12,
     "metadata": {},
     "output_type": "execute_result"
    }
   ],
   "source": [
    "import json\n",
    "import requests\n",
    "info={'name':'1st_repo','description':'first commit','auto_init':'true'}\n",
    "p=requests.post('https://api.github.com/user/repos',json.dumps(info),auth=('gunjanparth','330afde0e99162925f6b4b7541a580f3bcc3565f'))\n"
   ]
  },
  {
   "cell_type": "markdown",
   "metadata": {},
   "source": [
    "### Github License\n",
    "\n",
    "Fetch the license used in ‘google/go-cloud’ Github repository from Github API using basic auth i.e by passing username and password\n",
    "Print the license name.\n",
    "Note:Read the Github API documentation carefully."
   ]
  },
  {
   "cell_type": "code",
   "execution_count": 23,
   "metadata": {},
   "outputs": [
    {
     "name": "stdout",
     "output_type": "stream",
     "text": [
      "Apache License 2.0\n"
     ]
    }
   ],
   "source": [
    "import requests\n",
    "p=requests.get('https://api.github.com/repos/google/go-cloud/license')\n",
    "python_data=p.json()\n",
    "print(python_data['license']['name'])"
   ]
  },
  {
   "cell_type": "markdown",
   "metadata": {},
   "source": [
    "#### All Topics\n",
    "\n",
    "Fetch the list of topics that are present in ‘google/clusterfuzz’ Github repository from Github API using basic auth i.e by passing username and password.\n",
    "Print the topic names\n",
    "Note:Read the Github API documentation carefully."
   ]
  },
  {
   "cell_type": "code",
   "execution_count": 59,
   "metadata": {},
   "outputs": [
    {
     "data": {
      "text/plain": [
       "<Response [200]>"
      ]
     },
     "execution_count": 59,
     "metadata": {},
     "output_type": "execute_result"
    }
   ],
   "source": [
    "import requests\n",
    "import json\n",
    "info={\"Accept\": \"application/vnd.github.mercy-preview+json\"}\n",
    "p=requests.get('https://api.github.com/repos/google/clusterfuzz/topics',headers=info)\n",
    "p"
   ]
  },
  {
   "cell_type": "code",
   "execution_count": 55,
   "metadata": {},
   "outputs": [
    {
     "name": "stdout",
     "output_type": "stream",
     "text": [
      "fuzzing\n",
      "security\n",
      "stability\n",
      "vulnerabilities\n"
     ]
    }
   ],
   "source": [
    "import requests\n",
    "import json\n",
    "header={\"Accept\": \"application/vnd.github.mercy-preview+json\"}\n",
    "p=requests.get('https://api.github.com/repos/google/clusterfuzz/topics',headers=header)\n",
    "python_data=p.json()\n",
    "data=python_data['names']\n",
    "for i in data:\n",
    "    print(i)"
   ]
  },
  {
   "cell_type": "markdown",
   "metadata": {},
   "source": [
    "### Github Languages\n",
    "\n",
    "Fetch the list of languages used in ‘google/science-journal-ios’ Github repository from Github API using basic auth i.e by passing username and password.\n",
    "Print the language name.\n",
    "Note:Read the Github API documentation carefully."
   ]
  },
  {
   "cell_type": "code",
   "execution_count": 43,
   "metadata": {},
   "outputs": [
    {
     "name": "stdout",
     "output_type": "stream",
     "text": [
      "Swift\n",
      "HTML\n",
      "Python\n",
      "Ruby\n",
      "Shell\n"
     ]
    }
   ],
   "source": [
    "import requests\n",
    "p=requests.get('https://api.github.com/repositories/169635883/languages')\n",
    "data=p.json()\n",
    "for row in data.keys():\n",
    "    print(row)"
   ]
  },
  {
   "cell_type": "code",
   "execution_count": null,
   "metadata": {},
   "outputs": [],
   "source": []
  }
 ],
 "metadata": {
  "kernelspec": {
   "display_name": "Python 3",
   "language": "python",
   "name": "python3"
  },
  "language_info": {
   "codemirror_mode": {
    "name": "ipython",
    "version": 3
   },
   "file_extension": ".py",
   "mimetype": "text/x-python",
   "name": "python",
   "nbconvert_exporter": "python",
   "pygments_lexer": "ipython3",
   "version": "3.8.5"
  }
 },
 "nbformat": 4,
 "nbformat_minor": 4
}
